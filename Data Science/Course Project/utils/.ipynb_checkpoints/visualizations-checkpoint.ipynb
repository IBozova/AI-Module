{
 "cells": [
  {
   "cell_type": "code",
   "execution_count": null,
   "id": "9894304d-494d-48d9-ba5f-9b0ed3801e1e",
   "metadata": {},
   "outputs": [],
   "source": [
    "%matplotlib inline"
   ]
  },
  {
   "cell_type": "code",
   "execution_count": 26,
   "id": "837a7c5f-38d1-4abb-88a4-2df69f201653",
   "metadata": {},
   "outputs": [],
   "source": [
    "%matplotlib qt"
   ]
  },
  {
   "cell_type": "code",
   "execution_count": 27,
   "id": "3bf388c3-9aa8-440f-9b97-a2cdb4a6fe12",
   "metadata": {},
   "outputs": [],
   "source": [
    "import os\n",
    "import numpy as np\n",
    "import pandas as pd\n",
    "import geopandas as gpd\n",
    "import matplotlib.pyplot as plt\n",
    "import seaborn as sns\n",
    "\n",
    "from matplotlib import animation\n",
    "from matplotlib.animation import FuncAnimation\n",
    "from shapely.geometry import Point"
   ]
  },
  {
   "cell_type": "code",
   "execution_count": 28,
   "id": "5d55a467-05fc-4af8-bf17-2c12e1cd1512",
   "metadata": {},
   "outputs": [],
   "source": [
    "%store -r constants_geopands"
   ]
  },
  {
   "cell_type": "code",
   "execution_count": 29,
   "id": "263005b5-1481-4f6f-a02d-e2d4e1673525",
   "metadata": {},
   "outputs": [],
   "source": [
    "## Import forecasted scores\n",
    "\n",
    "scores = pd.read_csv(\"C:/Users/user/OneDrive/Documents/coding/Python/Data Science/Regression Models/06. Regression-Models-Lab/PV_scores.csv\")\n",
    "years = range(2023, 2029)\n",
    "\n",
    "## empty list to reset the text on animated bar chart \n",
    "\n",
    "texts = []"
   ]
  },
  {
   "cell_type": "code",
   "execution_count": 30,
   "id": "b2908510-c83d-4421-9868-e72cdf10c3bc",
   "metadata": {},
   "outputs": [],
   "source": [
    "## Creating animation for containing all forecasted years\n",
    "\n",
    "def animate(i):\n",
    "    \n",
    "    y_values = [countries_data[country][i] for country in countries_data.keys()]\n",
    "    sorted_data = sorted(countries_data.items(), key=lambda x: x[1][i])\n",
    "    tcks = [item[0] for item in sorted_data]\n",
    "    y_values_sorted = [item[1][i] for item in sorted_data]\n",
    "    \n",
    "    for text in texts:\n",
    "        text.remove()\n",
    "        \n",
    "    texts.clear()\n",
    "    \n",
    "    for i, value in enumerate(y_values_sorted):\n",
    "        t = plt.text(value + 0.32, i, \"{:.2f}\".format(value), va='baseline', fontsize=7)\n",
    "        texts.append(t)\n",
    "        \n",
    "    bar_width = 3.0\n",
    "    \n",
    "    plt.barh(range(len(tcks)), y_values_sorted, color=palette, height=0.6)\n",
    "    plt.yticks(np.arange(0, len(tcks)), tcks, fontsize=6,weight='bold')\n",
    "    plt.ylim(-1, len(tcks))"
   ]
  },
  {
   "cell_type": "code",
   "execution_count": 31,
   "id": "73832e3d-04b0-4c08-9640-94757e8bc5a8",
   "metadata": {},
   "outputs": [],
   "source": [
    "score_columns = [col for col in scores.columns if str(col).startswith('Score_')]\n",
    "sampled_scores = scores.sample(129)\n",
    "countries_data = {}\n",
    "\n",
    "## Matching values to unique countries for all years\n",
    "\n",
    "for country in sampled_scores['unique countries']:\n",
    "    countries_data[country] = sampled_scores[sampled_scores['unique countries'] == country][score_columns].values.flatten()\n",
    "\n",
    "palette = list(reversed(sns.color_palette(\"Spectral\", len(countries_data)).as_hex()))\n",
    "\n",
    "fig = plt.figure(figsize=(7,20))\n",
    "axes = fig.add_subplot(1,1,1)\n",
    "plt.style.use(\"seaborn\")\n",
    "ani = FuncAnimation(fig, animate, interval=1500, frames=range(7), repeat = True)\n",
    "\n",
    "## Text to serve as a title \n",
    "\n",
    "axes.text(0.65, 0.05, 'Scores (2023 - 2028)', transform=axes.transAxes,\n",
    "        fontsize=15, color='gray', alpha=0.8,\n",
    "        ha='left', va='bottom', rotation=360)\n",
    "plt.tight_layout()\n",
    "plt.show() ## animated bar chart of the changes between the years"
   ]
  },
  {
   "cell_type": "code",
   "execution_count": null,
   "id": "ec0923c2-0033-407f-9a95-e3273b02b11c",
   "metadata": {},
   "outputs": [],
   "source": [
    "cwd = os.getcwd()\n",
    "sov_file_name = '\\\\shapely_geometry\\\\ne_10m_admin_0_sovereignty.shp'\n",
    "pv_scores_file_name = '\\\\data\\\\PV_scores.csv'\n",
    "\n",
    "## Loading of Geopandas sovereignty file (coutries were missing locales)\n",
    "\n",
    "sovereignty = gpd.read_file(cwd + sov_file_name)\n",
    "\n",
    "## Reversing the dicts so keys are the names in the Geopandas file\n",
    "\n",
    "reverse_mapping = {name: country for country, names in constants_geopands.items() for name in names}\n",
    "sovereignty['mapped_country'] = sovereignty['ADMIN'].map(reverse_mapping)\n",
    "\n",
    "scores_2 = pd.read_csv(cwd + pv_scores_file_name)\n",
    "years = range(2023, 2029)\n",
    "\n",
    "## Merging the forecasted scores file to Geopandas sovereignty file\n",
    "\n",
    "merged_df = sovereignty.merge(scores_2, left_on='mapped_country', right_on='unique countries', how='left')"
   ]
  },
  {
   "cell_type": "code",
   "execution_count": 20,
   "id": "56a3c134-d3c6-4ab6-a707-2fd6c3a88dd1",
   "metadata": {},
   "outputs": [],
   "source": [
    "## Plotting only score columns onto world map - 6 subplots\n",
    "\n",
    "columns = merged_df.columns[171:177]\n",
    "rows = 3\n",
    "cols = 2\n",
    "\n",
    "fig, ax_arr = plt.subplots(rows, cols, squeeze=False, figsize=(30, 70))\n",
    "row_n = 0\n",
    "\n",
    "for x, col in enumerate(columns):\n",
    "    col_n = x % cols\n",
    "    if col_n == 0 and x != 0:\n",
    "        row_n += 1  \n",
    "\n",
    "    merged_df.plot(column=col, ax=ax_arr[row_n, col_n], legend=True, cmap='OrRd', missing_kwds={\n",
    "        \"color\": \"lightgrey\",\n",
    "        \"edgecolor\": \"grey\",\n",
    "        \"label\": \"Missing values\",\n",
    "    })\n",
    "    ax_arr[row_n, col_n].set_title(col)\n",
    "    ax_arr[row_n, col_n].axis('off')  \n",
    "\n",
    "plt.tight_layout()\n",
    "plt.show()"
   ]
  },
  {
   "cell_type": "code",
   "execution_count": 21,
   "id": "4025816d-5da2-4d7d-8df3-b1e22113abc8",
   "metadata": {},
   "outputs": [],
   "source": [
    "## Individual views as the 6 together were too small"
   ]
  },
  {
   "cell_type": "code",
   "execution_count": 22,
   "id": "9d24f4e8-6c55-4587-9dfa-aa250a84a2f9",
   "metadata": {},
   "outputs": [],
   "source": [
    "fig, ax = plt.subplots(figsize=(50, 90))\n",
    "\n",
    "merged_df.plot(column='Score_2023', ax=ax, cmap='OrRd', legend=True, legend_kwds={'label': \"Score 2023 by Country\"}, missing_kwds={\n",
    "        \"color\": \"lightgrey\",\n",
    "        \"edgecolor\": \"grey\",\n",
    "        \"label\": \"Missing values\",\n",
    "    })\n",
    "ax.set_aspect('equal')\n",
    "plt.show()"
   ]
  },
  {
   "cell_type": "code",
   "execution_count": 23,
   "id": "0752dd85-c712-49f1-b1a6-1083053e862f",
   "metadata": {},
   "outputs": [],
   "source": [
    "fig, ax = plt.subplots(figsize=(50, 90))\n",
    "\n",
    "merged_df.plot(column='Score_2024', ax=ax, cmap='OrRd', legend=True, legend_kwds={'label': \"Score 2024 by Country\"}, missing_kwds={\n",
    "        \"color\": \"lightgrey\",\n",
    "        \"edgecolor\": \"grey\",\n",
    "        \"label\": \"Missing values\",\n",
    "    })\n",
    "ax.set_aspect('equal')\n",
    "plt.show()"
   ]
  },
  {
   "cell_type": "code",
   "execution_count": null,
   "id": "c2929aab-5c83-4d37-b603-676ccf3a659e",
   "metadata": {},
   "outputs": [],
   "source": [
    "fig, ax = plt.subplots(figsize=(50, 90))\n",
    "\n",
    "merged_df.plot(column='Score_2025', ax=ax, cmap='OrRd', legend=True, legend_kwds={'label': \"Score 2025 by Country\"}, missing_kwds={\n",
    "        \"color\": \"lightgrey\",\n",
    "        \"edgecolor\": \"grey\",\n",
    "        \"label\": \"Missing values\",\n",
    "    })\n",
    "ax.set_aspect('equal')\n",
    "plt.show()"
   ]
  },
  {
   "cell_type": "code",
   "execution_count": null,
   "id": "01c01415-28cd-4ae1-8b23-467522acbf86",
   "metadata": {},
   "outputs": [],
   "source": [
    "fig, ax = plt.subplots(figsize=(50, 90))\n",
    "\n",
    "merged_df.plot(column='Score_2026', ax=ax, cmap='OrRd', legend=True, legend_kwds={'label': \"Score 2026 by Country\"}, missing_kwds={\n",
    "        \"color\": \"lightgrey\",\n",
    "        \"edgecolor\": \"grey\",\n",
    "        \"label\": \"Missing values\",\n",
    "    })\n",
    "ax.set_aspect('equal')\n",
    "plt.show()"
   ]
  },
  {
   "cell_type": "code",
   "execution_count": null,
   "id": "1b91be56-2df7-4bee-953b-793665a7e791",
   "metadata": {},
   "outputs": [],
   "source": [
    "fig, ax = plt.subplots(figsize=(50, 90))\n",
    "\n",
    "merged_df.plot(column='Score_2027', ax=ax, cmap='OrRd', legend=True, legend_kwds={'label': \"Score 2027 by Country\"}, missing_kwds={\n",
    "        \"color\": \"lightgrey\",\n",
    "        \"edgecolor\": \"grey\",\n",
    "        \"label\": \"Missing values\",\n",
    "    })\n",
    "ax.set_aspect('equal')\n",
    "plt.show()"
   ]
  },
  {
   "cell_type": "code",
   "execution_count": null,
   "id": "9cccba63-1ccf-4424-a77d-bf50d130f1d3",
   "metadata": {},
   "outputs": [],
   "source": [
    "fig, ax = plt.subplots(figsize=(50, 90))\n",
    "\n",
    "merged_df.plot(column='Score_2028', ax=ax, cmap='OrRd', legend=True, legend_kwds={'label': \"Score 2028 by Country\"}, missing_kwds={\n",
    "        \"color\": \"lightgrey\",\n",
    "        \"edgecolor\": \"grey\",\n",
    "        \"label\": \"Missing values\",\n",
    "    })\n",
    "ax.set_aspect('equal')\n",
    "plt.show()"
   ]
  },
  {
   "cell_type": "code",
   "execution_count": null,
   "id": "5d3444ac-ed67-4a8f-909f-00f614707f4b",
   "metadata": {},
   "outputs": [],
   "source": []
  }
 ],
 "metadata": {
  "kernelspec": {
   "display_name": "Python 3 (ipykernel)",
   "language": "python",
   "name": "python3"
  },
  "language_info": {
   "codemirror_mode": {
    "name": "ipython",
    "version": 3
   },
   "file_extension": ".py",
   "mimetype": "text/x-python",
   "name": "python",
   "nbconvert_exporter": "python",
   "pygments_lexer": "ipython3",
   "version": "3.9.13"
  }
 },
 "nbformat": 4,
 "nbformat_minor": 5
}
